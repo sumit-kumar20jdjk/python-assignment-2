{
 "cells": [
  {
   "cell_type": "code",
   "execution_count": 1,
   "id": "fc3aee84-cbd3-43c7-a73a-1cf526ce31a7",
   "metadata": {},
   "outputs": [],
   "source": [
    " l4=[('Sachin Tendulkar', 34357), ('Ricky Ponting', 27483), ('Jack Kallis', 25534), ('Virat Kohli', 24936)] #Q1-ans"
   ]
  },
  {
   "cell_type": "code",
   "execution_count": 2,
   "id": "19456493-c8ea-49df-b0b3-b5dfd3c20e3e",
   "metadata": {},
   "outputs": [
    {
     "name": "stdout",
     "output_type": "stream",
     "text": [
      "[('Virat Kohli', 24936), ('Jack Kallis', 25534), ('Ricky Ponting', 27483), ('Sachin Tendulkar', 34357)]\n"
     ]
    }
   ],
   "source": [
    "x =sorted(l4,key= lambda x: x[1])\n",
    "print(x)\n",
    "\n"
   ]
  },
  {
   "cell_type": "code",
   "execution_count": 3,
   "id": "d98009a3-f98f-40ad-ac8d-c980a5fc7cc9",
   "metadata": {},
   "outputs": [],
   "source": [
    "l=[1, 2, 3, 4, 5, 6, 7, 8, 9, 10] #Q2 ans"
   ]
  },
  {
   "cell_type": "code",
   "execution_count": 4,
   "id": "d536c3f2-b308-42fa-9082-895698d087c5",
   "metadata": {},
   "outputs": [
    {
     "data": {
      "text/plain": [
       "[1, 4, 9, 16, 25, 36, 49, 64, 81, 100]"
      ]
     },
     "execution_count": 4,
     "metadata": {},
     "output_type": "execute_result"
    }
   ],
   "source": [
    "list(map(lambda x: x**2,l))"
   ]
  },
  {
   "cell_type": "code",
   "execution_count": 5,
   "id": "3cdfd183-07ee-4ebb-9256-eb4226623e15",
   "metadata": {},
   "outputs": [],
   "source": [
    "s= [1, 2, 3, 4, 5, 6, 7, 8, 9, 10]"
   ]
  },
  {
   "cell_type": "code",
   "execution_count": 6,
   "id": "0c61c046-df74-4ca3-a4f7-1d6a020a351e",
   "metadata": {},
   "outputs": [
    {
     "data": {
      "text/plain": [
       "('1', '2', '3', '4', '5', '6', '7', '8', '9', '10')"
      ]
     },
     "execution_count": 6,
     "metadata": {},
     "output_type": "execute_result"
    }
   ],
   "source": [
    "tuple(map(lambda x: str(x),s))        #Q3 ans"
   ]
  },
  {
   "cell_type": "code",
   "execution_count": 7,
   "id": "748a5501-7d24-4df6-8296-27b8decfbe88",
   "metadata": {},
   "outputs": [],
   "source": [
    "l1=[1,2,3,4,5,6,7,8,9,10,11,12,13,14,15,16,17,18,19,20,21,22,23,24,25]     #Q4 ans-"
   ]
  },
  {
   "cell_type": "code",
   "execution_count": 8,
   "id": "62e364c1-cf79-4aa2-8884-ccee4f865afe",
   "metadata": {},
   "outputs": [],
   "source": [
    "from functools import reduce"
   ]
  },
  {
   "cell_type": "code",
   "execution_count": 9,
   "id": "1ee940bf-a8eb-457f-b2a9-6578dd28fafe",
   "metadata": {},
   "outputs": [
    {
     "data": {
      "text/plain": [
       "15511210043330985984000000"
      ]
     },
     "execution_count": 9,
     "metadata": {},
     "output_type": "execute_result"
    }
   ],
   "source": [
    "reduce(lambda x,y :x*y,l1)"
   ]
  },
  {
   "cell_type": "code",
   "execution_count": 10,
   "id": "a630a47e-a42b-4a6f-a3c7-9bdf8433968e",
   "metadata": {},
   "outputs": [],
   "source": [
    "l2=[2, 3, 6, 9, 27, 60, 90, 120, 55, 46]  #Q5 ans"
   ]
  },
  {
   "cell_type": "code",
   "execution_count": 11,
   "id": "d2060fe0-d2e2-4c08-b0eb-081eecfaadf7",
   "metadata": {},
   "outputs": [
    {
     "data": {
      "text/plain": [
       "[6, 60, 90, 120]"
      ]
     },
     "execution_count": 11,
     "metadata": {},
     "output_type": "execute_result"
    }
   ],
   "source": [
    "list(filter(lambda x: x% 2==0 and x%3==0,l2))"
   ]
  },
  {
   "cell_type": "code",
   "execution_count": 12,
   "id": "5d4eb785-0bf8-4ef5-870b-4d2920e83f5d",
   "metadata": {},
   "outputs": [],
   "source": [
    "l3= ['python', 'php', 'aba', 'radar', 'level']   #Q6 ans"
   ]
  },
  {
   "cell_type": "code",
   "execution_count": 13,
   "id": "528ad982-bb71-4bf6-b01e-7bd016f12e4d",
   "metadata": {},
   "outputs": [
    {
     "data": {
      "text/plain": [
       "['php', 'aba', 'radar', 'level']"
      ]
     },
     "execution_count": 13,
     "metadata": {},
     "output_type": "execute_result"
    }
   ],
   "source": [
    "list(filter(lambda l3: l3[::1]==l3[::-1],l3))"
   ]
  }
 ],
 "metadata": {
  "kernelspec": {
   "display_name": "Python 3 (ipykernel)",
   "language": "python",
   "name": "python3"
  },
  "language_info": {
   "codemirror_mode": {
    "name": "ipython",
    "version": 3
   },
   "file_extension": ".py",
   "mimetype": "text/x-python",
   "name": "python",
   "nbconvert_exporter": "python",
   "pygments_lexer": "ipython3",
   "version": "3.10.6"
  }
 },
 "nbformat": 4,
 "nbformat_minor": 5
}
